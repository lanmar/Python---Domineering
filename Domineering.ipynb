{
 "cells": [
  {
   "cell_type": "code",
   "execution_count": 1,
   "metadata": {},
   "outputs": [
    {
     "name": "stderr",
     "output_type": "stream",
     "text": [
      "Using TensorFlow backend.\n"
     ]
    }
   ],
   "source": [
    "import pandas as pd\n",
    "import numpy as np\n",
    "import matplotlib.pyplot as plt\n",
    "%matplotlib inline  \n",
    "\n",
    "from sklearn.metrics import accuracy_score\n",
    "from sklearn.model_selection import train_test_split\n",
    "\n",
    "import keras\n",
    "from keras.models import Sequential\n",
    "from keras.layers import Dense, Dropout, Flatten\n",
    "from keras.layers import Conv2D"
   ]
  },
  {
   "cell_type": "markdown",
   "metadata": {},
   "source": [
    "# Import du dataset et formatage des données"
   ]
  },
  {
   "cell_type": "code",
   "execution_count": 2,
   "metadata": {},
   "outputs": [],
   "source": [
    "dataset = np.loadtxt('domineering.csv', delimiter=',')"
   ]
  },
  {
   "cell_type": "code",
   "execution_count": 3,
   "metadata": {},
   "outputs": [
    {
     "name": "stdout",
     "output_type": "stream",
     "text": [
      "Taille du dataset: 28155\n",
      "[[0. 0. 0. ... 0. 0. 0.]\n",
      " [0. 0. 0. ... 0. 0. 0.]\n",
      " [0. 0. 0. ... 0. 0. 0.]\n",
      " ...\n",
      " [1. 1. 1. ... 0. 0. 0.]\n",
      " [1. 1. 1. ... 0. 1. 0.]\n",
      " [1. 1. 1. ... 0. 0. 0.]]\n"
     ]
    }
   ],
   "source": [
    "data2 = dataset\n",
    "data = data2\n",
    "print('Taille du dataset:', len(data))\n",
    "print(data)\n"
   ]
  },
  {
   "cell_type": "markdown",
   "metadata": {},
   "source": [
    "A partir du dataset, on forme les matrices correspondant aux différentes informations du plateau :\n",
    "* le board correspond à l'état du plateau\n",
    "* flipped_board correspond à l'état inverse du plateau\n",
    "* player définit le joueur qui doit jouer : une matrice de 0 pour le jeu vertical et une matrice de 1 pour le jeu horizontal\n",
    "* move définit le coup à jouer, avec une seule position pour le domino à positionner : l'emplacement gauche d'un domino horizontal, l'emplacement haut d'un domino vertical"
   ]
  },
  {
   "cell_type": "code",
   "execution_count": 4,
   "metadata": {},
   "outputs": [],
   "source": [
    "board = data.T[:64].T.reshape((len(data), 8, 8))\n",
    "flipped_board = data.T[64:128].T.reshape((len(data), 8, 8))\n",
    "player = data.T[128:192].T.reshape((len(data), 8, 8))\n",
    "move = data.T[192:].T.reshape((len(data), 8, 8))"
   ]
  },
  {
   "cell_type": "markdown",
   "metadata": {},
   "source": [
    "# Data augmentation\n",
    "\n",
    "On cherche à augmenter le dataset en récupérant les 4 symétries des plateaux. \n",
    "\n",
    "Définition des fonctions permettant d'effectuer les symétries :"
   ]
  },
  {
   "cell_type": "code",
   "execution_count": 5,
   "metadata": {},
   "outputs": [],
   "source": [
    "def get_syms(board):\n",
    "    # on récupère les symétries horizontale, verticale, et des 2 diagonales du board :\n",
    "    \n",
    "    sym_horizontale = np.flipud(board)\n",
    "    sym_verticale = np.fliplr(board)\n",
    "    sym_diag_1 = np.rot90(sym_verticale)\n",
    "    sym_diag_2 = np.rot90(sym_horizontale)\n",
    "    syms = [board, sym_horizontale, sym_verticale, sym_diag_1, sym_diag_2]\n",
    "    \n",
    "    return syms\n",
    "\n",
    "\n",
    "def get_complete_move(move, player):\n",
    "    # on cherche le plateau avec les 2 emplacements de chaque domino, \n",
    "    # pour pouvoir faire les symétries du move avec le domino complet    \n",
    "    \n",
    "    complete_move = move.copy()   \n",
    "    \n",
    "    for i in range(len(move)):\n",
    "        for j in range(len(move.T)):\n",
    "            if move[i][j] == 1:\n",
    "                if player[0][0] == 1:\n",
    "                    complete_move[i][j+1] = 1\n",
    "                else:\n",
    "                    complete_move[i+1][j] = 1\n",
    "\n",
    "    return complete_move\n",
    "    \n",
    "def get_simple_move_and_player_after_syms(complete_move, player):  \n",
    "    # on revient à un plateau avec un seul emplacement par domino : \n",
    "    # l'emplacement gauche pour un domino horizontal, l'emplacement haut pour un domino vertical.    \n",
    "    # Les symétries peuvent amener un domino horizontal à devenir vertical et inversement. On va\n",
    "    # donc chercher le joueur correspondant en fonction de la direction du domino.\n",
    "    \n",
    "    move = []\n",
    "    new_player = []\n",
    "    \n",
    "    for syms in complete_move: \n",
    "        simple_move = np.zeros((8,8))\n",
    "        player2 = np.zeros((8,8))\n",
    "        for i in range(len(syms)):\n",
    "            for j in range(len(syms.T)):\n",
    "                if j!=7 and syms[i][j] == 1 and syms[i][j+1] == 1:\n",
    "                    simple_move[i][j] = 1\n",
    "                    player2 = np.ones((8,8))\n",
    "                elif i!=7 and syms[i][j] == 1 and syms[i+1][j] == 1:\n",
    "                    simple_move[i][j] = 1\n",
    "                    player2 = np.zeros((8,8))\n",
    "        move.append(simple_move)\n",
    "        new_player.append(player2)\n",
    "    \n",
    "    return move, new_player"
   ]
  },
  {
   "cell_type": "code",
   "execution_count": 6,
   "metadata": {},
   "outputs": [
    {
     "name": "stdout",
     "output_type": "stream",
     "text": [
      "Taille du dataset augmenté avec les 4 symétries : 140775\n",
      "Taille attendue : 140775\n"
     ]
    }
   ],
   "source": [
    "data_augmented = []\n",
    "\n",
    "for row in zip(board, flipped_board, player, move):\n",
    "    \n",
    "    # Pour chaque observation on récupère les différents boards\n",
    "    board_row  = row[0]\n",
    "    flipped_board_row = row[1]\n",
    "    player_row = row[2]\n",
    "    move_row = row[3]\n",
    "        \n",
    "    # Symmétries\n",
    "    board_row_syms = get_syms(board_row)\n",
    "    flipped_board_row_syms = get_syms(flipped_board_row)\n",
    "    move_row_syms, player_row_syms = get_simple_move_and_player_after_syms(get_syms(get_complete_move(move_row, player_row)), player_row)\n",
    "\n",
    "    syms = list(zip(board_row_syms, flipped_board_row_syms, player_row_syms, move_row_syms))\n",
    "    data_augmented.extend(syms)\n",
    "\n",
    "print(\"Taille du dataset augmenté avec les 4 symétries :\", len(data_augmented))\n",
    "print(\"Taille attendue :\", len(board)*5)"
   ]
  },
  {
   "cell_type": "markdown",
   "metadata": {},
   "source": [
    "# Modélisation"
   ]
  },
  {
   "cell_type": "markdown",
   "metadata": {},
   "source": [
    "On commence par remettre à plat les différents boards pour chaque observation de façon à pouvoir splitter le jeu de données en Train et Test :"
   ]
  },
  {
   "cell_type": "code",
   "execution_count": 7,
   "metadata": {},
   "outputs": [],
   "source": [
    "X = np.zeros((len(data_augmented),192))\n",
    "y = np.zeros((len(data_augmented),64))\n",
    "i=0\n",
    "for row in data_augmented:\n",
    "    X[i, 0:64] = row[0].flatten()\n",
    "    X[i, 64:128] = row[1].flatten()\n",
    "    X[i, 128:192] = row[2].flatten()\n",
    "    y[i, 0:64] = row[3].flatten()\n",
    "    i += 1"
   ]
  },
  {
   "cell_type": "code",
   "execution_count": 8,
   "metadata": {},
   "outputs": [],
   "source": [
    "X_train, X_test, y_train, y_test = train_test_split(X, y, test_size = 0.1, random_state = 0, shuffle = True)"
   ]
  },
  {
   "cell_type": "markdown",
   "metadata": {},
   "source": [
    "On retransforme les observations en matrices :"
   ]
  },
  {
   "cell_type": "code",
   "execution_count": 9,
   "metadata": {},
   "outputs": [],
   "source": [
    "X_train = X_train.reshape(X_train.shape[0], 3, 8, 8)\n",
    "X_test = X_test.reshape(X_test.shape[0], 3, 8, 8)\n",
    "y_train = y_train.reshape(y_train.shape[0], 64)\n",
    "y_test = y_test.reshape(y_test.shape[0], 64)"
   ]
  },
  {
   "cell_type": "markdown",
   "metadata": {},
   "source": [
    "Pour la modélisation, différents optimizers ont été testés :\n",
    "* Adadelta val_acc : 0.3866\n",
    "* Adam val_acc : 03520\n",
    "* Adamax val_acc : 0.3174\n",
    "* Nadam val_acc : 0.3644\n",
    "* RMSprop val_acc : 0.0303\n",
    "* SGD val_acc : 0.3797\n",
    "\n",
    "Différentes combinaisons de couches de neurones et de Dropout ont également été testées. "
   ]
  },
  {
   "cell_type": "code",
   "execution_count": 17,
   "metadata": {},
   "outputs": [],
   "source": [
    "model = Sequential()\n",
    "model.add(Conv2D(128, kernel_size=(3, 3), activation='relu', input_shape=(3, 8, 8), padding=\"same\"))\n",
    "model.add(Conv2D(64, (3, 3), activation='relu', padding=\"same\"))\n",
    "model.add(Dropout(0.25))\n",
    "model.add(Conv2D(64, (3, 3), activation='relu', padding=\"same\"))\n",
    "model.add(Dropout(0.25))\n",
    "model.add(Conv2D(64, (3, 3), activation='relu', padding=\"same\"))\n",
    "model.add(Dropout(0.25))\n",
    "model.add(Conv2D(64, (3, 3), activation='relu', padding=\"same\"))\n",
    "model.add(Dropout(0.25))\n",
    "model.add(Conv2D(1, (3, 3), activation='relu', padding=\"same\"))\n",
    "model.add(Flatten())\n",
    "model.add(Dense(64, activation='softmax'))\n",
    "model.compile(loss='categorical_crossentropy', optimizer='adadelta', metrics=['accuracy'])"
   ]
  },
  {
   "cell_type": "code",
   "execution_count": 18,
   "metadata": {},
   "outputs": [
    {
     "name": "stdout",
     "output_type": "stream",
     "text": [
      "Train on 114027 samples, validate on 12670 samples\n",
      "Epoch 1/30\n",
      "114027/114027 [==============================] - 165s 1ms/step - loss: 3.5256 - acc: 0.1230 - val_loss: 3.0521 - val_acc: 0.2334\n",
      "Epoch 2/30\n",
      "114027/114027 [==============================] - 140s 1ms/step - loss: 2.8440 - acc: 0.2764 - val_loss: 2.5958 - val_acc: 0.3199\n",
      "Epoch 3/30\n",
      "114027/114027 [==============================] - 135s 1ms/step - loss: 2.5533 - acc: 0.3306 - val_loss: 2.4041 - val_acc: 0.3543\n",
      "Epoch 4/30\n",
      "114027/114027 [==============================] - 151s 1ms/step - loss: 2.4327 - acc: 0.3517 - val_loss: 2.3550 - val_acc: 0.3624\n",
      "Epoch 5/30\n",
      "114027/114027 [==============================] - 180s 2ms/step - loss: 2.3562 - acc: 0.3662 - val_loss: 2.2743 - val_acc: 0.3746\n",
      "Epoch 6/30\n",
      "114027/114027 [==============================] - 198s 2ms/step - loss: 2.3127 - acc: 0.3737 - val_loss: 2.2391 - val_acc: 0.3853\n",
      "Epoch 7/30\n",
      "114027/114027 [==============================] - 205s 2ms/step - loss: 2.2759 - acc: 0.3824 - val_loss: 2.2031 - val_acc: 0.3900\n",
      "Epoch 8/30\n",
      "114027/114027 [==============================] - 163s 1ms/step - loss: 2.2542 - acc: 0.3877 - val_loss: 2.2020 - val_acc: 0.3936\n",
      "Epoch 9/30\n",
      "114027/114027 [==============================] - 255s 2ms/step - loss: 2.2358 - acc: 0.3914 - val_loss: 2.2050 - val_acc: 0.3897\n",
      "Epoch 10/30\n",
      "114027/114027 [==============================] - 229s 2ms/step - loss: 2.2118 - acc: 0.3964 - val_loss: 2.1947 - val_acc: 0.3916\n",
      "Epoch 11/30\n",
      "114027/114027 [==============================] - 203s 2ms/step - loss: 2.2075 - acc: 0.3985 - val_loss: 2.1777 - val_acc: 0.3967\n",
      "Epoch 12/30\n",
      "114027/114027 [==============================] - 191s 2ms/step - loss: 2.1913 - acc: 0.4029 - val_loss: 2.1622 - val_acc: 0.4036\n",
      "Epoch 13/30\n",
      "114027/114027 [==============================] - 171s 2ms/step - loss: 2.1834 - acc: 0.4024 - val_loss: 2.1596 - val_acc: 0.4013\n",
      "Epoch 14/30\n",
      "114027/114027 [==============================] - 186s 2ms/step - loss: 2.1732 - acc: 0.4061 - val_loss: 2.1561 - val_acc: 0.4066\n",
      "Epoch 15/30\n",
      "114027/114027 [==============================] - 211s 2ms/step - loss: 2.1684 - acc: 0.4064 - val_loss: 2.1538 - val_acc: 0.4003\n",
      "Epoch 16/30\n",
      "114027/114027 [==============================] - 171s 2ms/step - loss: 2.1594 - acc: 0.4091 - val_loss: 2.1545 - val_acc: 0.4029\n",
      "Epoch 17/30\n",
      "114027/114027 [==============================] - 183s 2ms/step - loss: 2.1520 - acc: 0.4096 - val_loss: 2.1594 - val_acc: 0.4019\n",
      "Epoch 18/30\n",
      "114027/114027 [==============================] - 140s 1ms/step - loss: 2.1467 - acc: 0.4130 - val_loss: 2.1476 - val_acc: 0.4038\n",
      "Epoch 19/30\n",
      "114027/114027 [==============================] - 143s 1ms/step - loss: 2.1412 - acc: 0.4155 - val_loss: 2.1453 - val_acc: 0.4050\n"
     ]
    }
   ],
   "source": [
    "early_stop = keras.callbacks.EarlyStopping(monitor='val_acc', patience=5, mode='max') \n",
    "history = model.fit(X_train, y_train, epochs=30, batch_size=32, validation_split=0.1, callbacks=[early_stop])"
   ]
  },
  {
   "cell_type": "markdown",
   "metadata": {},
   "source": [
    "Affichage du graphique de Loss :"
   ]
  },
  {
   "cell_type": "code",
   "execution_count": 19,
   "metadata": {},
   "outputs": [
    {
     "data": {
      "image/png": "[encoded data removed]",
      "text/plain": [
       "<Figure size 432x288 with 1 Axes>"
      ]
     },
     "metadata": {
      "needs_background": "light"
     },
     "output_type": "display_data"
    }
   ],
   "source": [
    "loss = history.history['loss']\n",
    "val_loss = history.history['val_loss']\n",
    "epochs = range(1, len(loss) + 1)\n",
    "plt.plot(epochs, loss, 'bo', label='Training loss')\n",
    "plt.plot(epochs, val_loss, 'b', label='Validation loss')\n",
    "plt.title('Training and validation loss')\n",
    "plt.xlabel('Epochs')\n",
    "plt.ylabel('Loss')\n",
    "plt.legend()\n",
    "plt.show()"
   ]
  },
  {
   "cell_type": "markdown",
   "metadata": {},
   "source": [
    "Affichage du graphique d'Accuracy :"
   ]
  },
  {
   "cell_type": "code",
   "execution_count": 20,
   "metadata": {},
   "outputs": [
    {
     "data": {
      "image/png": "[encoded data removed]",
      "text/plain": [
       "<Figure size 432x288 with 1 Axes>"
      ]
     },
     "metadata": {
      "needs_background": "light"
     },
     "output_type": "display_data"
    }
   ],
   "source": [
    "plt.clf() #Clears the figure\n",
    "acc = history.history['acc']\n",
    "val_acc = history.history['val_acc']\n",
    "plt.plot(epochs, acc, 'bo', label='Training acc')\n",
    "plt.plot(epochs, val_acc, 'b', label='Validation acc')\n",
    "plt.title('Training and validation accuracy')\n",
    "plt.xlabel('Epochs')\n",
    "plt.ylabel('Accuracy')\n",
    "plt.legend()\n",
    "plt.show()"
   ]
  },
  {
   "cell_type": "markdown",
   "metadata": {},
   "source": [
    "Test de l'accuracy du modèle sur le jeu de test :"
   ]
  },
  {
   "cell_type": "code",
   "execution_count": 21,
   "metadata": {},
   "outputs": [
    {
     "name": "stdout",
     "output_type": "stream",
     "text": [
      "Accuracy : 0.40112231851115215 \n"
     ]
    }
   ],
   "source": [
    "pred_test = model.predict(X_test)\n",
    "acc = accuracy_score(np.argmax(y_test, axis=1), np.argmax(pred_test, axis=1))\n",
    "print(\"Accuracy : %s \" %acc)"
   ]
  },
  {
   "cell_type": "markdown",
   "metadata": {},
   "source": [
    "# Jeu"
   ]
  },
  {
   "cell_type": "code",
   "execution_count": 24,
   "metadata": {},
   "outputs": [],
   "source": [
    "import random\n",
    "\n",
    "def possible_moves(board, player):\n",
    "    # on cherche tous les coups possibles à partir de l'état du jeu actuel\n",
    "    \n",
    "    moves=[]\n",
    "    \n",
    "    if player==0:      \n",
    "        for i in range(8):\n",
    "            for j in range(8):\n",
    "                if board[i][j]==0 :\n",
    "                    try :\n",
    "                        if board[i+1][j] == 0 :\n",
    "                            moves.append(i*8+j)\n",
    "                    except:\n",
    "                        error=0\n",
    "    elif player==1:\n",
    "        for i in range(8):\n",
    "            for j in range(8):\n",
    "                if board[i][j] == 0 :\n",
    "                    try : \n",
    "                        if board[i][j+1] == 0 :\n",
    "                            moves.append(i*8+j)\n",
    "                    except :\n",
    "                        error = 0\n",
    "                    \n",
    "    return moves     \n",
    "\n",
    "\n",
    "def game(nb_parties):\n",
    "    \n",
    "    # on initialise les boards à 0 et on tire le premier joueur au hasard\n",
    "    board = np.zeros((8, 8))\n",
    "    flipped_board = np.zeros((8,8)) \n",
    "    player = random.randint(0,1)\n",
    "    print(\"Le joueur %s commence la partie\" % player)\n",
    "    X = np.zeros((192))\n",
    "    game_over = False\n",
    "    n = 0\n",
    "    \n",
    "    # tant que le nombre total de parties n'est pas atteint et que le \n",
    "    # jeu n'est pas terminé :\n",
    "    while n < nb_parties and game_over == False : \n",
    "        print(\"Partie \", n)\n",
    "        \n",
    "        #flipped board\n",
    "        flipped_board = 1 - board\n",
    "     \n",
    "        #player\n",
    "        if player == 0:\n",
    "            player_board = np.zeros((8,8))\n",
    "        elif player == 1:\n",
    "            player_board = np.ones((8,8))\n",
    "        \n",
    "        # on crée le jeu à prédire par le modèle à partir de l'éat actuel du plateau \n",
    "        # et des boards créées ci-dessus (flipped_board et player)\n",
    "        X[0:64] = board.flatten()\n",
    "        X[64:128] = flipped_board.flatten()\n",
    "        X[128:192] = player_board.flatten()\n",
    "        X_pred = X.reshape(1, 3, 8, 8)\n",
    "        \n",
    "        # prédictions du coup à jouer\n",
    "        y = model.predict(X_pred)\n",
    "        \n",
    "        # sélection du meilleur coup prédit\n",
    "        # la prédiction a affecté des proba à chaque coup, il faut sélectionner\n",
    "        # parmi les coups possibles, celui qui a la meilleure proba\n",
    "        max_prob = -1\n",
    "        for i in range(64):\n",
    "            if y[0][i] > max_prob :\n",
    "                max_prob = y[0][i]\n",
    "                if i in possible_moves(board, player):\n",
    "                    move = i\n",
    "            else:\n",
    "                max_prob=-1\n",
    "            \n",
    "        # nouvelle board correspondant au meilleur coup prédit\n",
    "        i=move//8\n",
    "        j=move%8\n",
    "        board[i][j] += 1 #1ère position du domino\n",
    "    \n",
    "        # 2ème position du domino en fonction du joueur (0 vertical ou 1 horizontal)\n",
    "        if player==0:\n",
    "            board[i+1][j] = 1\n",
    "        elif player==1:\n",
    "            board[i][j+1] = 1    \n",
    "         \n",
    "        print(\"Le joueur \", player, \"a\", len(possible_moves(board, player)), \"coups possibles\")\n",
    "        print(\"Le joueur \", 1-player, \"a\", len(possible_moves(board, 1-player)), \"coups possibles\")\n",
    "        \n",
    "        # Lorsqu'un joueur ne peut plus joueur, il a perdu la partie.\n",
    "        if len(possible_moves(board, 1-player)) == 0:\n",
    "            game_over = True\n",
    "            print(\"Le joueur %s a gagné\" % player)\n",
    "        else:\n",
    "            player = 1 -  player\n",
    "            n += 1"
   ]
  },
  {
   "cell_type": "markdown",
   "metadata": {},
   "source": [
    "On lance un jeu de 40 tours :"
   ]
  },
  {
   "cell_type": "code",
   "execution_count": 26,
   "metadata": {},
   "outputs": [
    {
     "name": "stdout",
     "output_type": "stream",
     "text": [
      "Le joueur 1 commence la partie\n",
      "Partie  0\n",
      "Le joueur  1 a 54 coups possibles\n",
      "Le joueur  0 a 54 coups possibles\n",
      "Partie  1\n",
      "Le joueur  0 a 52 coups possibles\n",
      "Le joueur  1 a 50 coups possibles\n",
      "Partie  2\n",
      "Le joueur  1 a 48 coups possibles\n",
      "Le joueur  0 a 50 coups possibles\n",
      "Partie  3\n",
      "Le joueur  0 a 48 coups possibles\n",
      "Le joueur  1 a 45 coups possibles\n",
      "Partie  4\n",
      "Le joueur  1 a 43 coups possibles\n",
      "Le joueur  0 a 46 coups possibles\n",
      "Partie  5\n",
      "Le joueur  0 a 44 coups possibles\n",
      "Le joueur  1 a 43 coups possibles\n",
      "Partie  6\n",
      "Le joueur  1 a 42 coups possibles\n",
      "Le joueur  0 a 42 coups possibles\n",
      "Partie  7\n",
      "Le joueur  0 a 40 coups possibles\n",
      "Le joueur  1 a 42 coups possibles\n",
      "Partie  8\n",
      "Le joueur  1 a 40 coups possibles\n",
      "Le joueur  0 a 38 coups possibles\n",
      "Partie  9\n",
      "Le joueur  0 a 36 coups possibles\n",
      "Le joueur  1 a 36 coups possibles\n",
      "Partie  10\n",
      "Le joueur  1 a 34 coups possibles\n",
      "Le joueur  0 a 34 coups possibles\n",
      "Partie  11\n",
      "Le joueur  0 a 32 coups possibles\n",
      "Le joueur  1 a 32 coups possibles\n",
      "Partie  12\n",
      "Le joueur  1 a 30 coups possibles\n",
      "Le joueur  0 a 30 coups possibles\n",
      "Partie  13\n",
      "Le joueur  0 a 28 coups possibles\n",
      "Le joueur  1 a 30 coups possibles\n",
      "Partie  14\n",
      "Le joueur  1 a 28 coups possibles\n",
      "Le joueur  0 a 25 coups possibles\n",
      "Partie  15\n",
      "Le joueur  0 a 23 coups possibles\n",
      "Le joueur  1 a 26 coups possibles\n",
      "Partie  16\n",
      "Le joueur  1 a 24 coups possibles\n",
      "Le joueur  0 a 21 coups possibles\n",
      "Partie  17\n",
      "Le joueur  0 a 19 coups possibles\n",
      "Le joueur  1 a 21 coups possibles\n",
      "Partie  18\n",
      "Le joueur  1 a 19 coups possibles\n",
      "Le joueur  0 a 17 coups possibles\n",
      "Partie  19\n",
      "Le joueur  0 a 15 coups possibles\n",
      "Le joueur  1 a 18 coups possibles\n",
      "Partie  20\n",
      "Le joueur  1 a 17 coups possibles\n",
      "Le joueur  0 a 13 coups possibles\n",
      "Partie  21\n",
      "Le joueur  0 a 11 coups possibles\n",
      "Le joueur  1 a 15 coups possibles\n",
      "Partie  22\n",
      "Le joueur  1 a 14 coups possibles\n",
      "Le joueur  0 a 9 coups possibles\n",
      "Partie  23\n",
      "Le joueur  0 a 7 coups possibles\n",
      "Le joueur  1 a 12 coups possibles\n",
      "Partie  24\n",
      "Le joueur  1 a 10 coups possibles\n",
      "Le joueur  0 a 5 coups possibles\n",
      "Partie  25\n",
      "Le joueur  0 a 4 coups possibles\n",
      "Le joueur  1 a 7 coups possibles\n",
      "Partie  26\n",
      "Le joueur  1 a 5 coups possibles\n",
      "Le joueur  0 a 2 coups possibles\n",
      "Partie  27\n",
      "Le joueur  0 a 1 coups possibles\n",
      "Le joueur  1 a 3 coups possibles\n",
      "Partie  28\n",
      "Le joueur  1 a 1 coups possibles\n",
      "Le joueur  0 a 0 coups possibles\n",
      "Le joueur 1 a gagné\n"
     ]
    }
   ],
   "source": [
    "game(40)"
   ]
  }
 ],
 "metadata": {
  "kernelspec": {
   "display_name": "Python 3",
   "language": "python",
   "name": "python3"
  },
  "language_info": {
   "codemirror_mode": {
    "name": "ipython",
    "version": 3
   },
   "file_extension": ".py",
   "mimetype": "text/x-python",
   "name": "python",
   "nbconvert_exporter": "python",
   "pygments_lexer": "ipython3",
   "version": "3.7.3"
  }
 },
 "nbformat": 4,
 "nbformat_minor": 4
}
